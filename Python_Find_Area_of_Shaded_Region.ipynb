{
  "nbformat": 4,
  "nbformat_minor": 0,
  "metadata": {
    "colab": {
      "provenance": [],
      "authorship_tag": "ABX9TyMUAeVSXyjLTXxQLdxj7M1Z",
      "include_colab_link": true
    },
    "kernelspec": {
      "name": "python3",
      "display_name": "Python 3"
    },
    "language_info": {
      "name": "python"
    }
  },
  "cells": [
    {
      "cell_type": "markdown",
      "metadata": {
        "id": "view-in-github",
        "colab_type": "text"
      },
      "source": [
        "<a href=\"https://colab.research.google.com/github/sundargmoorthy/python_notebooks/blob/main/Python_Find_Area_of_Shaded_Region.ipynb\" target=\"_parent\"><img src=\"https://colab.research.google.com/assets/colab-badge.svg\" alt=\"Open In Colab\"/></a>"
      ]
    },
    {
      "cell_type": "markdown",
      "source": [
        "**Area of the shaded region**\n",
        "\n",
        "In the figure below, the circle is inscribed in a square that has area of 16. Now identify the area of the shaded region.\n",
        "\n",
        "![image.png](data:image/png;base64,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)"
      ],
      "metadata": {
        "id": "shIUgq31L1T4"
      }
    },
    {
      "cell_type": "code",
      "execution_count": 5,
      "metadata": {
        "colab": {
          "base_uri": "https://localhost:8080/"
        },
        "id": "Zp0FgTylGd37",
        "outputId": "7fa817c9-f81a-482a-919b-a4f78d154255"
      },
      "outputs": [
        {
          "output_type": "stream",
          "name": "stdout",
          "text": [
            "Side of the square:  4.0\n",
            "Radius of the inner circle:  2.0\n",
            "Area of the inner circle:  12.56\n",
            "Area covered in grey color:  3.4399999999999995\n"
          ]
        }
      ],
      "source": [
        "# Importing Math Library for calculation purpose\n",
        "import math\n",
        "\n",
        "# To identify a side of the square, we need to take square root of the area of the circle.\n",
        "area_of_square = 16\n",
        "side_of_square = math.sqrt(area_of_square)\n",
        "print(\"Side of the square: \", side_of_square)\n",
        "\n",
        "# Since circle is inscribed inside the square, circle's diameter equals the side of the square (i.e Side of the square = Diameter of the circle).\n",
        "# Hence to identify the radius of the circle, we just need to divide the radius of the circle (i.e. side of the square) by 2.\n",
        "radius_of_circle = side_of_square/2\n",
        "print(\"Radius of the inner circle: \", radius_of_circle)\n",
        "\n",
        "# With radius available now, we can identify the area of the circle using the formula Pi * r^2.\n",
        "# I am directly replacing Pi with 3.14 to identify the area of the circle.\n",
        "area_of_circle = 3.14 * (radius_of_circle ** 2)\n",
        "print(\"Area of the inner circle: \", area_of_circle)\n",
        "\n",
        "# Now we know the area of the circle. We already know the area of the square is 16.\n",
        "# To identify the area of greyed region, we just need to subtract area of the circle from area of the square.\n",
        "# This gives us the desired result we're looking for.\n",
        "area_of_greyed_parts = area_of_square - area_of_circle\n",
        "print(\"Area covered in grey color: \", area_of_greyed_parts)"
      ]
    }
  ]
}