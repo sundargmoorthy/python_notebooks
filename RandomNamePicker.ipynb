{
  "nbformat": 4,
  "nbformat_minor": 0,
  "metadata": {
    "colab": {
      "provenance": [],
      "authorship_tag": "ABX9TyMgLtWlBzi4TtyaRZaPJaVH",
      "include_colab_link": true
    },
    "kernelspec": {
      "name": "python3",
      "display_name": "Python 3"
    },
    "language_info": {
      "name": "python"
    }
  },
  "cells": [
    {
      "cell_type": "markdown",
      "metadata": {
        "id": "view-in-github",
        "colab_type": "text"
      },
      "source": [
        "<a href=\"https://colab.research.google.com/github/sundargmoorthy/python_notebooks/blob/main/RandomNamePicker.ipynb\" target=\"_parent\"><img src=\"https://colab.research.google.com/assets/colab-badge.svg\" alt=\"Open In Colab\"/></a>"
      ]
    },
    {
      "cell_type": "code",
      "execution_count": 8,
      "metadata": {
        "colab": {
          "base_uri": "https://localhost:8080/",
          "height": 140
        },
        "id": "dfc5WbEy1OBb",
        "outputId": "c729d1f7-2b70-49b8-87bc-bb563628da83"
      },
      "outputs": [
        {
          "name": "stdout",
          "output_type": "stream",
          "text": [
            "Welcome to the Name Picker app! A name the app would pick for you is:\n",
            "Bharat Basak\n",
            "Try again? (Press Enter else n to quit)\n",
            "Banke Bhakta\n",
            "Try again? (Press Enter else n to quit)n\n",
            "Press Enter to exit.\n"
          ]
        },
        {
          "output_type": "execute_result",
          "data": {
            "text/plain": [
              "''"
            ],
            "application/vnd.google.colaboratory.intrinsic+json": {
              "type": "string"
            }
          },
          "metadata": {},
          "execution_count": 8
        }
      ],
      "source": [
        "import sys, random\n",
        "\n",
        "print(\"Welcome to the Name Picker app! A name the app would pick for you is:\")\n",
        "\n",
        "first = ('Abhijit','Achuta','Aditya','Ahura','Ajatashatru','Ajay','Akaash','Akshay',\n",
        "         'Alam','Amit','Anand','Ananias','Anay','Anoop','Aseem','Asija','Asuman','Asvin',\n",
        "         'Atharvan','Atul','Badal','Bala','Balaji','Balavan','Baldev','Balin','Banke','Bharat','Bhudev')\n",
        "last = ('Bali','Bandi','Banerjee','Banik','Bansal','Barad','Barad','Baral','Baria','Barman','Basak',\n",
        "        'Bassi','Basu','Bath','Batra','Batta','Bava','Bawa','Bedi','Behl','Ben','Bera','Bhagat','Bhakta','Bhalla','Bhandari','Bhardwaj','Bhargava','Bhasin','Bhat','Bhatia')\n",
        "\n",
        "while True:\n",
        "  firstName = random.choice(first)\n",
        "  lastName = random.choice(last)\n",
        "  print(\"{} {}\".format(firstName, lastName))\n",
        "  try_again = input(\"Try again? (Press Enter else n to quit)\")\n",
        "  if try_again.lower() == \"n\":\n",
        "    break\n",
        "\n",
        "input(\"Press Enter to exit.\")"
      ]
    }
  ]
}